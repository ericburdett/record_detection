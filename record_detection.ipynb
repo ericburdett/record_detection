{
  "nbformat": 4,
  "nbformat_minor": 0,
  "metadata": {
    "colab": {
      "name": "record_detection.ipynb",
      "provenance": [],
      "authorship_tag": "ABX9TyPtULGkEDfZqoDgLXT6S45f",
      "include_colab_link": true
    },
    "kernelspec": {
      "name": "python3",
      "display_name": "Python 3"
    }
  },
  "cells": [
    {
      "cell_type": "markdown",
      "metadata": {
        "id": "view-in-github",
        "colab_type": "text"
      },
      "source": [
        "<a href=\"https://colab.research.google.com/github/ericburdett/record_detection/blob/master/record_detection.ipynb\" target=\"_parent\"><img src=\"https://colab.research.google.com/assets/colab-badge.svg\" alt=\"Open In Colab\"/></a>"
      ]
    },
    {
      "cell_type": "markdown",
      "metadata": {
        "id": "FqBD6RjemTrt",
        "colab_type": "text"
      },
      "source": [
        "# Record Detection\n",
        "\n",
        "This notebook contains code to segment records from historical documents. It\n",
        "uses a TensorFlow Hub implementation of Faster-RCNN."
      ]
    },
    {
      "cell_type": "code",
      "metadata": {
        "id": "TbiNMjRsMPLz",
        "colab_type": "code",
        "colab": {
          "base_uri": "https://localhost:8080/",
          "height": 102
        },
        "outputId": "af35cec7-4153-4fb9-f5d8-8b5931693ced"
      },
      "source": [
        "!git clone https://github.com/fizyr/keras-retinanet.git"
      ],
      "execution_count": 50,
      "outputs": [
        {
          "output_type": "stream",
          "text": [
            "Cloning into 'keras-retinanet'...\n",
            "remote: Enumerating objects: 5705, done.\u001b[K\n",
            "remote: Total 5705 (delta 0), reused 0 (delta 0), pack-reused 5705\u001b[K\n",
            "Receiving objects: 100% (5705/5705), 13.36 MiB | 29.74 MiB/s, done.\n",
            "Resolving deltas: 100% (3831/3831), done.\n"
          ],
          "name": "stdout"
        }
      ]
    },
    {
      "cell_type": "code",
      "metadata": {
        "id": "fTWkWuY4MTY-",
        "colab_type": "code",
        "colab": {
          "base_uri": "https://localhost:8080/",
          "height": 34
        },
        "outputId": "276cd1bc-4a1b-4dd9-9d76-e0e694dc2248"
      },
      "source": [
        "%cd keras-retinanet/"
      ],
      "execution_count": 51,
      "outputs": [
        {
          "output_type": "stream",
          "text": [
            "/content/tf-retinanet/keras-retinanet\n"
          ],
          "name": "stdout"
        }
      ]
    },
    {
      "cell_type": "code",
      "metadata": {
        "id": "e0SqsibTMlqt",
        "colab_type": "code",
        "colab": {
          "base_uri": "https://localhost:8080/",
          "height": 51
        },
        "outputId": "10e9b0b6-5ea2-41ce-f151-06d31367f47e"
      },
      "source": [
        "!ls keras_retinanet/models"
      ],
      "execution_count": 58,
      "outputs": [
        {
          "output_type": "stream",
          "text": [
            "densenet.py  __init__.py   __pycache__\tretinanet.py  vgg.py\n",
            "effnet.py    mobilenet.py  resnet.py\tsenet.py\n"
          ],
          "name": "stdout"
        }
      ]
    },
    {
      "cell_type": "code",
      "metadata": {
        "id": "9KLdH8ybMXNF",
        "colab_type": "code",
        "colab": {}
      },
      "source": [
        "pip install . --user"
      ],
      "execution_count": 0,
      "outputs": []
    },
    {
      "cell_type": "markdown",
      "metadata": {
        "id": "_NgbRvK8O3rT",
        "colab_type": "text"
      },
      "source": [
        "Load the model once it's trained from an h5 file"
      ]
    },
    {
      "cell_type": "code",
      "metadata": {
        "id": "rJg9uQq5MeYK",
        "colab_type": "code",
        "colab": {}
      },
      "source": [
        "from keras_retinanet.models import load_model"
      ],
      "execution_count": 0,
      "outputs": []
    },
    {
      "cell_type": "code",
      "metadata": {
        "id": "9zFOBwOrMjMs",
        "colab_type": "code",
        "colab": {}
      },
      "source": [
        "model = load_model('')"
      ],
      "execution_count": 0,
      "outputs": []
    },
    {
      "cell_type": "markdown",
      "metadata": {
        "id": "fSOxM_gumojz",
        "colab_type": "text"
      },
      "source": [
        "### Imports and Setup"
      ]
    },
    {
      "cell_type": "markdown",
      "metadata": {
        "id": "8FGcVo8Cmq_v",
        "colab_type": "text"
      },
      "source": [
        "### Dataset Loading"
      ]
    },
    {
      "cell_type": "markdown",
      "metadata": {
        "id": "3tW1-hddmuye",
        "colab_type": "text"
      },
      "source": [
        "### Creating TfRecords Dataset"
      ]
    },
    {
      "cell_type": "markdown",
      "metadata": {
        "id": "HAnVw5Bnm0k8",
        "colab_type": "text"
      },
      "source": [
        "### Model Creation"
      ]
    },
    {
      "cell_type": "markdown",
      "metadata": {
        "id": "BikcqWIKm25f",
        "colab_type": "text"
      },
      "source": [
        "### Training"
      ]
    },
    {
      "cell_type": "markdown",
      "metadata": {
        "id": "xzlh85LMm44U",
        "colab_type": "text"
      },
      "source": [
        "### Results"
      ]
    }
  ]
}