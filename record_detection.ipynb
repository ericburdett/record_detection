{
  "nbformat": 4,
  "nbformat_minor": 0,
  "metadata": {
    "colab": {
      "name": "record_detection.ipynb",
      "provenance": [],
      "authorship_tag": "ABX9TyPnj9fKpkDa1Jemf+sT83K5",
      "include_colab_link": true
    },
    "kernelspec": {
      "name": "python3",
      "display_name": "Python 3"
    }
  },
  "cells": [
    {
      "cell_type": "markdown",
      "metadata": {
        "id": "view-in-github",
        "colab_type": "text"
      },
      "source": [
        "<a href=\"https://colab.research.google.com/github/ericburdett/record_detection/blob/master/record_detection.ipynb\" target=\"_parent\"><img src=\"https://colab.research.google.com/assets/colab-badge.svg\" alt=\"Open In Colab\"/></a>"
      ]
    },
    {
      "cell_type": "markdown",
      "metadata": {
        "id": "FqBD6RjemTrt",
        "colab_type": "text"
      },
      "source": [
        "# Record Detection\n",
        "\n",
        "This notebook contains code to segment records from historical documents. It\n",
        "uses a TensorFlow Hub implementation of Faster-RCNN."
      ]
    },
    {
      "cell_type": "markdown",
      "metadata": {
        "id": "fSOxM_gumojz",
        "colab_type": "text"
      },
      "source": [
        "### Imports and Setup"
      ]
    },
    {
      "cell_type": "markdown",
      "metadata": {
        "id": "8FGcVo8Cmq_v",
        "colab_type": "text"
      },
      "source": [
        "### Dataset Loading"
      ]
    },
    {
      "cell_type": "markdown",
      "metadata": {
        "id": "3tW1-hddmuye",
        "colab_type": "text"
      },
      "source": [
        "### Creating TfRecords Dataset"
      ]
    },
    {
      "cell_type": "markdown",
      "metadata": {
        "id": "HAnVw5Bnm0k8",
        "colab_type": "text"
      },
      "source": [
        "### Model Creation"
      ]
    },
    {
      "cell_type": "markdown",
      "metadata": {
        "id": "BikcqWIKm25f",
        "colab_type": "text"
      },
      "source": [
        "### Training"
      ]
    },
    {
      "cell_type": "markdown",
      "metadata": {
        "id": "xzlh85LMm44U",
        "colab_type": "text"
      },
      "source": [
        "### Results"
      ]
    }
  ]
}